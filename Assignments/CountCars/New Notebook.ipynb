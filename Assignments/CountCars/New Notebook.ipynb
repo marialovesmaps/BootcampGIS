{
 "cells": [
  {
   "cell_type": "code",
   "execution_count": 1,
   "metadata": {},
   "outputs": [
    {
     "ename": "RuntimeError",
     "evalue": "OpenSSL 3.0's legacy provider failed to load. This is a fatal error by default, but cryptography supports running without legacy algorithms by setting the environment variable CRYPTOGRAPHY_OPENSSL_NO_LEGACY. If you did not expect this error, you have likely made a mistake with your OpenSSL configuration.",
     "output_type": "error",
     "traceback": [
      "\u001b[0;31m---------------------------------------------------------------------------\u001b[0m\n\u001b[0;31mRuntimeError\u001b[0m                              Traceback (most recent call last)",
      "In  \u001b[0;34m[1]\u001b[0m:\nLine \u001b[0;34m1\u001b[0m:     \u001b[34mimport\u001b[39;49;00m \u001b[04m\u001b[36marcgis\u001b[39;49;00m\n",
      "File \u001b[0;34mC:\\Users\\Administrator\\AppData\\Local\\ESRI\\conda\\envs\\arcgispro-py3-clone\\lib\\site-packages\\arcgis\\__init__.py\u001b[0m, in \u001b[0;32m<module>\u001b[0m:\nLine \u001b[0;34m3\u001b[0m:     \u001b[34mfrom\u001b[39;49;00m \u001b[04m\u001b[36marcgis\u001b[39;49;00m\u001b[04m\u001b[36m.\u001b[39;49;00m\u001b[04m\u001b[36mauth\u001b[39;49;00m\u001b[04m\u001b[36m.\u001b[39;49;00m\u001b[04m\u001b[36mtools\u001b[39;49;00m \u001b[34mimport\u001b[39;49;00m LazyLoader\n",
      "File \u001b[0;34mC:\\Users\\Administrator\\AppData\\Local\\ESRI\\conda\\envs\\arcgispro-py3-clone\\lib\\site-packages\\arcgis\\auth\\__init__.py\u001b[0m, in \u001b[0;32m<module>\u001b[0m:\nLine \u001b[0;34m1\u001b[0m:     \u001b[34mfrom\u001b[39;49;00m \u001b[04m\u001b[36m.\u001b[39;49;00m\u001b[04m\u001b[36mapi\u001b[39;49;00m \u001b[34mimport\u001b[39;49;00m EsriSession\n",
      "File \u001b[0;34mC:\\Users\\Administrator\\AppData\\Local\\ESRI\\conda\\envs\\arcgispro-py3-clone\\lib\\site-packages\\arcgis\\auth\\api.py\u001b[0m, in \u001b[0;32m<module>\u001b[0m:\nLine \u001b[0;34m38\u001b[0m:    \u001b[34mfrom\u001b[39;49;00m \u001b[04m\u001b[36mrequests_toolbelt\u001b[39;49;00m\u001b[04m\u001b[36m.\u001b[39;49;00m\u001b[04m\u001b[36madapters\u001b[39;49;00m\u001b[04m\u001b[36m.\u001b[39;49;00m\u001b[04m\u001b[36mhost_header_ssl\u001b[39;49;00m \u001b[34mimport\u001b[39;49;00m HostHeaderSSLAdapter\n",
      "File \u001b[0;34mC:\\Users\\Administrator\\AppData\\Local\\ESRI\\conda\\envs\\arcgispro-py3-clone\\lib\\site-packages\\requests_toolbelt\\__init__.py\u001b[0m, in \u001b[0;32m<module>\u001b[0m:\nLine \u001b[0;34m12\u001b[0m:    \u001b[34mfrom\u001b[39;49;00m \u001b[04m\u001b[36m.\u001b[39;49;00m\u001b[04m\u001b[36madapters\u001b[39;49;00m \u001b[34mimport\u001b[39;49;00m SSLAdapter, SourceAddressAdapter\n",
      "File \u001b[0;34mC:\\Users\\Administrator\\AppData\\Local\\ESRI\\conda\\envs\\arcgispro-py3-clone\\lib\\site-packages\\requests_toolbelt\\adapters\\__init__.py\u001b[0m, in \u001b[0;32m<module>\u001b[0m:\nLine \u001b[0;34m12\u001b[0m:    \u001b[34mfrom\u001b[39;49;00m \u001b[04m\u001b[36m.\u001b[39;49;00m\u001b[04m\u001b[36mssl\u001b[39;49;00m \u001b[34mimport\u001b[39;49;00m SSLAdapter\n",
      "File \u001b[0;34mC:\\Users\\Administrator\\AppData\\Local\\ESRI\\conda\\envs\\arcgispro-py3-clone\\lib\\site-packages\\requests_toolbelt\\adapters\\ssl.py\u001b[0m, in \u001b[0;32m<module>\u001b[0m:\nLine \u001b[0;34m16\u001b[0m:    \u001b[34mfrom\u001b[39;49;00m \u001b[04m\u001b[36m.\u001b[39;49;00m\u001b[04m\u001b[36m.\u001b[39;49;00m\u001b[04m\u001b[36m_compat\u001b[39;49;00m \u001b[34mimport\u001b[39;49;00m poolmanager\n",
      "File \u001b[0;34mC:\\Users\\Administrator\\AppData\\Local\\ESRI\\conda\\envs\\arcgispro-py3-clone\\lib\\site-packages\\requests_toolbelt\\_compat.py\u001b[0m, in \u001b[0;32m<module>\u001b[0m:\nLine \u001b[0;34m56\u001b[0m:    \u001b[34mfrom\u001b[39;49;00m \u001b[04m\u001b[36mrequests\u001b[39;49;00m\u001b[04m\u001b[36m.\u001b[39;49;00m\u001b[04m\u001b[36mpackages\u001b[39;49;00m\u001b[04m\u001b[36m.\u001b[39;49;00m\u001b[04m\u001b[36murllib3\u001b[39;49;00m\u001b[04m\u001b[36m.\u001b[39;49;00m\u001b[04m\u001b[36mcontrib\u001b[39;49;00m\u001b[04m\u001b[36m.\u001b[39;49;00m\u001b[04m\u001b[36mpyopenssl\u001b[39;49;00m \\\n",
      "File \u001b[0;34mC:\\Users\\Administrator\\AppData\\Local\\ESRI\\conda\\envs\\arcgispro-py3-clone\\lib\\site-packages\\urllib3\\contrib\\pyopenssl.py\u001b[0m, in \u001b[0;32m<module>\u001b[0m:\nLine \u001b[0;34m50\u001b[0m:    \u001b[34mimport\u001b[39;49;00m \u001b[04m\u001b[36mOpenSSL\u001b[39;49;00m\u001b[04m\u001b[36m.\u001b[39;49;00m\u001b[04m\u001b[36mcrypto\u001b[39;49;00m\n",
      "File \u001b[0;34mC:\\Users\\Administrator\\AppData\\Local\\ESRI\\conda\\envs\\arcgispro-py3-clone\\lib\\site-packages\\OpenSSL\\__init__.py\u001b[0m, in \u001b[0;32m<module>\u001b[0m:\nLine \u001b[0;34m8\u001b[0m:     \u001b[34mfrom\u001b[39;49;00m \u001b[04m\u001b[36mOpenSSL\u001b[39;49;00m \u001b[34mimport\u001b[39;49;00m SSL, crypto\n",
      "File \u001b[0;34mC:\\Users\\Administrator\\AppData\\Local\\ESRI\\conda\\envs\\arcgispro-py3-clone\\lib\\site-packages\\OpenSSL\\SSL.py\u001b[0m, in \u001b[0;32m<module>\u001b[0m:\nLine \u001b[0;34m9\u001b[0m:     \u001b[34mfrom\u001b[39;49;00m \u001b[04m\u001b[36mOpenSSL\u001b[39;49;00m\u001b[04m\u001b[36m.\u001b[39;49;00m\u001b[04m\u001b[36m_util\u001b[39;49;00m \u001b[34mimport\u001b[39;49;00m (\n",
      "File \u001b[0;34mC:\\Users\\Administrator\\AppData\\Local\\ESRI\\conda\\envs\\arcgispro-py3-clone\\lib\\site-packages\\OpenSSL\\_util.py\u001b[0m, in \u001b[0;32m<module>\u001b[0m:\nLine \u001b[0;34m6\u001b[0m:     \u001b[34mfrom\u001b[39;49;00m \u001b[04m\u001b[36mcryptography\u001b[39;49;00m\u001b[04m\u001b[36m.\u001b[39;49;00m\u001b[04m\u001b[36mhazmat\u001b[39;49;00m\u001b[04m\u001b[36m.\u001b[39;49;00m\u001b[04m\u001b[36mbindings\u001b[39;49;00m\u001b[04m\u001b[36m.\u001b[39;49;00m\u001b[04m\u001b[36mopenssl\u001b[39;49;00m\u001b[04m\u001b[36m.\u001b[39;49;00m\u001b[04m\u001b[36mbinding\u001b[39;49;00m \u001b[34mimport\u001b[39;49;00m Binding\n",
      "File \u001b[0;34mC:\\Users\\Administrator\\AppData\\Local\\ESRI\\conda\\envs\\arcgispro-py3-clone\\lib\\site-packages\\cryptography\\hazmat\\bindings\\openssl\\binding.py\u001b[0m, in \u001b[0;32m<module>\u001b[0m:\nLine \u001b[0;34m167\u001b[0m:   Binding.init_static_locks()\n",
      "File \u001b[0;34mC:\\Users\\Administrator\\AppData\\Local\\ESRI\\conda\\envs\\arcgispro-py3-clone\\lib\\site-packages\\cryptography\\hazmat\\bindings\\openssl\\binding.py\u001b[0m, in \u001b[0;32minit_static_locks\u001b[0m:\nLine \u001b[0;34m134\u001b[0m:   \u001b[36mcls\u001b[39;49;00m._ensure_ffi_initialized()\n",
      "File \u001b[0;34mC:\\Users\\Administrator\\AppData\\Local\\ESRI\\conda\\envs\\arcgispro-py3-clone\\lib\\site-packages\\cryptography\\hazmat\\bindings\\openssl\\binding.py\u001b[0m, in \u001b[0;32m_ensure_ffi_initialized\u001b[0m:\nLine \u001b[0;34m123\u001b[0m:   _legacy_provider_error(\u001b[36mcls\u001b[39;49;00m._legacy_provider_loaded)\n",
      "File \u001b[0;34mC:\\Users\\Administrator\\AppData\\Local\\ESRI\\conda\\envs\\arcgispro-py3-clone\\lib\\site-packages\\cryptography\\hazmat\\bindings\\openssl\\binding.py\u001b[0m, in \u001b[0;32m_legacy_provider_error\u001b[0m:\nLine \u001b[0;34m43\u001b[0m:    \u001b[34mraise\u001b[39;49;00m \u001b[36mRuntimeError\u001b[39;49;00m(\n",
      "\u001b[0;31mRuntimeError\u001b[0m: OpenSSL 3.0's legacy provider failed to load. This is a fatal error by default, but cryptography supports running without legacy algorithms by setting the environment variable CRYPTOGRAPHY_OPENSSL_NO_LEGACY. If you did not expect this error, you have likely made a mistake with your OpenSSL configuration.\n\u001b[0;31m---------------------------------------------------------------------------\u001b[0m"
     ]
    }
   ],
   "source": [
    "import arcgis\n",
    "from arcgis.gis import GIS\n",
    "from arcgis.learn import detect_objects\n",
    "from arcgis.raster.functions import equal_to\n",
    "\n",
    "import pandas as pd\n",
    "from datetime import datetime as dt\n",
    "from ipywidgets import HBox, VBox, Label, Layout\n"
   ]
  },
  {
   "cell_type": "code",
   "execution_count": null,
   "metadata": {},
   "outputs": [],
   "source": []
  }
 ],
 "metadata": {
  "kernelspec": {
   "display_name": "ArcGISPro",
   "language": "Python",
   "name": "python3"
  },
  "language_info": {
   "file_extension": ".py",
   "name": "python",
   "version": "3"
  }
 },
 "nbformat": 4,
 "nbformat_minor": 2
}
